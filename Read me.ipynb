{
 "cells": [
  {
   "cell_type": "markdown",
   "id": "95de9825",
   "metadata": {},
   "source": [
    "# Read Me"
   ]
  },
  {
   "cell_type": "markdown",
   "id": "e8ac0ed5",
   "metadata": {},
   "source": [
    "    This is a web app to predict stock prices of the S&P 500. You can choose the stock ticker from the sidebar, the range between each candlestick and the number of days."
   ]
  },
  {
   "cell_type": "markdown",
   "id": "09f61737",
   "metadata": {},
   "source": [
    "## Requirements"
   ]
  },
  {
   "cell_type": "markdown",
   "id": "3a099958",
   "metadata": {},
   "source": [
    "In order to run the web app, you need to have installed the streamlit framework"
   ]
  },
  {
   "cell_type": "code",
   "execution_count": null,
   "id": "20efe4e7",
   "metadata": {},
   "outputs": [],
   "source": [
    "pip install streamlit"
   ]
  },
  {
   "cell_type": "markdown",
   "id": "0e5d2193",
   "metadata": {},
   "source": [
    "The version of Python needs to be from Python 3.7 to 3.9"
   ]
  },
  {
   "cell_type": "markdown",
   "id": "f9cbd1b2",
   "metadata": {},
   "source": [
    "The last requirement is to run the code in an IDE such as Spyder or Pycharm"
   ]
  },
  {
   "cell_type": "markdown",
   "id": "50b99d1e",
   "metadata": {},
   "source": [
    "## How to run the code?"
   ]
  },
  {
   "cell_type": "markdown",
   "id": "1b846ab7",
   "metadata": {},
   "source": [
    "In order to launch the web app, you need to type the code into the IDE of your choice. \n",
    "When you run the code, generally you will get a message that shows you the command you need to input it in the CMD "
   ]
  },
  {
   "cell_type": "markdown",
   "id": "b9f32d42",
   "metadata": {},
   "source": [
    "The command is similar to the following code"
   ]
  },
  {
   "cell_type": "code",
   "execution_count": null,
   "id": "8acf1406",
   "metadata": {},
   "outputs": [],
   "source": [
    "streamlit run myfile.py"
   ]
  },
  {
   "cell_type": "markdown",
   "id": "19142c29",
   "metadata": {},
   "source": [
    "After running the command in the CMD, a new window in the default web browser with show your code"
   ]
  }
 ],
 "metadata": {
  "kernelspec": {
   "display_name": "Python 3",
   "language": "python",
   "name": "python3"
  },
  "language_info": {
   "codemirror_mode": {
    "name": "ipython",
    "version": 3
   },
   "file_extension": ".py",
   "mimetype": "text/x-python",
   "name": "python",
   "nbconvert_exporter": "python",
   "pygments_lexer": "ipython3",
   "version": "3.8.8"
  }
 },
 "nbformat": 4,
 "nbformat_minor": 5
}
